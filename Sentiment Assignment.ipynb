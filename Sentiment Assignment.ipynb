{
 "cells": [
  {
   "cell_type": "markdown",
   "id": "48c3fa20",
   "metadata": {},
   "source": [
    "```\n",
    "Muris Saab\n",
    "ADS 509 - Assignment 6.1\n",
    "University of San Diego\n",
    "```"
   ]
  },
  {
   "cell_type": "markdown",
   "id": "7f79baf9",
   "metadata": {},
   "source": [
    "# ADS 509 Sentiment Assignment\n",
    "\n",
    "This notebook holds the Sentiment Assignment for Module 6 in ADS 509, Applied Text Mining. Work through this notebook, writing code and answering questions where required. \n",
    "\n",
    "In a previous assignment you put together Twitter data and lyrics data on two artists. In this assignment we apply sentiment analysis to those data sets. If, for some reason, you did not complete that previous assignment, data to use for this assignment can be found in the assignment materials section of Blackboard. \n"
   ]
  },
  {
   "cell_type": "markdown",
   "id": "aae8e2e1",
   "metadata": {},
   "source": [
    "## General Assignment Instructions\n",
    "\n",
    "These instructions are included in every assignment, to remind you of the coding standards for the class. Feel free to delete this cell after reading it. \n",
    "\n",
    "One sign of mature code is conforming to a style guide. We recommend the [Google Python Style Guide](https://google.github.io/styleguide/pyguide.html). If you use a different style guide, please include a cell with a link. \n",
    "\n",
    "Your code should be relatively easy-to-read, sensibly commented, and clean. Writing code is a messy process, so please be sure to edit your final submission. Remove any cells that are not needed or parts of cells that contain unnecessary code. Remove inessential `import` statements and make sure that all such statements are moved into the designated cell. \n",
    "\n",
    "Make use of non-code cells for written commentary. These cells should be grammatical and clearly written. In some of these cells you will have questions to answer. The questions will be marked by a \"Q:\" and will have a corresponding \"A:\" spot for you. *Make sure to answer every question marked with a `Q:` for full credit.* \n"
   ]
  },
  {
   "cell_type": "code",
   "execution_count": 19,
   "id": "e2d096b7",
   "metadata": {},
   "outputs": [],
   "source": [
    "import os\n",
    "import re\n",
    "import emoji\n",
    "import pandas as pd\n",
    "import numpy as np\n",
    "\n",
    "from collections import Counter, defaultdict\n",
    "from string import punctuation\n",
    "\n",
    "from nltk.corpus import stopwords\n",
    "\n",
    "sw = stopwords.words(\"english\")"
   ]
  },
  {
   "cell_type": "code",
   "execution_count": 20,
   "id": "6b555ab2",
   "metadata": {},
   "outputs": [],
   "source": [
    "# Add any additional import statements you need here\n",
    "\n",
    "\n"
   ]
  },
  {
   "cell_type": "code",
   "execution_count": 21,
   "id": "923b5a86",
   "metadata": {},
   "outputs": [],
   "source": [
    "# change `data_location` to the location of the folder on your machine.\n",
    "data_location = \"/Users/muriss/Downloads/M1 Results\"\n",
    "\n",
    "# These subfolders should still work if you correctly stored the \n",
    "# data from the Module 1 assignment\n",
    "twitter_folder = \"twitter/\"\n",
    "lyrics_folder = \"lyrics/\"\n",
    "\n",
    "positive_words_file = \"positive-words.txt\"\n",
    "negative_words_file = \"negative-words.txt\"\n",
    "tidy_text_file = \"tidytext_sentiments.txt\""
   ]
  },
  {
   "cell_type": "markdown",
   "id": "9d3bf93e",
   "metadata": {},
   "source": [
    "## Data Input\n",
    "\n",
    "Now read in each of the corpora. For the lyrics data, it may be convenient to store the entire contents of the file to make it easier to inspect the titles individually, as you'll do in the last part of the assignment. In the solution, I stored the lyrics data in a dictionary with two dimensions of keys: artist and song. The value was the file contents. A Pandas data frame would work equally well. \n",
    "\n",
    "For the Twitter data, we only need the description field for this assignment. Feel free all the descriptions read it into a data structure. In the solution, I stored the descriptions as a dictionary of lists, with the key being the artist. \n",
    "\n",
    "\n"
   ]
  },
  {
   "cell_type": "code",
   "execution_count": 22,
   "id": "37d70801",
   "metadata": {},
   "outputs": [
    {
     "data": {
      "text/html": [
       "<div>\n",
       "<style scoped>\n",
       "    .dataframe tbody tr th:only-of-type {\n",
       "        vertical-align: middle;\n",
       "    }\n",
       "\n",
       "    .dataframe tbody tr th {\n",
       "        vertical-align: top;\n",
       "    }\n",
       "\n",
       "    .dataframe thead th {\n",
       "        text-align: right;\n",
       "    }\n",
       "</style>\n",
       "<table border=\"1\" class=\"dataframe\">\n",
       "  <thead>\n",
       "    <tr style=\"text-align: right;\">\n",
       "      <th></th>\n",
       "      <th>artist</th>\n",
       "      <th>song</th>\n",
       "      <th>lyrics</th>\n",
       "    </tr>\n",
       "  </thead>\n",
       "  <tbody>\n",
       "    <tr>\n",
       "      <th>0</th>\n",
       "      <td>robyn</td>\n",
       "      <td>robyn_includemeout</td>\n",
       "      <td>\"Include Me Out\"\\n\\n\\n\\nIt is really very simp...</td>\n",
       "    </tr>\n",
       "    <tr>\n",
       "      <th>1</th>\n",
       "      <td>robyn</td>\n",
       "      <td>robyn_electric</td>\n",
       "      <td>\"Electric\"\\n\\n\\n\\nElectric...\\n\\nIt's electric...</td>\n",
       "    </tr>\n",
       "    <tr>\n",
       "      <th>2</th>\n",
       "      <td>robyn</td>\n",
       "      <td>robyn_beach2k20</td>\n",
       "      <td>\"Beach 2K20\"\\n\\n\\n\\n(So you wanna go out?\\nHow...</td>\n",
       "    </tr>\n",
       "    <tr>\n",
       "      <th>3</th>\n",
       "      <td>robyn</td>\n",
       "      <td>robyn_lovekills</td>\n",
       "      <td>\"Love Kills\"\\n\\n\\n\\nIf you're looking for love...</td>\n",
       "    </tr>\n",
       "    <tr>\n",
       "      <th>4</th>\n",
       "      <td>robyn</td>\n",
       "      <td>robyn_timemachine</td>\n",
       "      <td>\"Time Machine\"\\n\\n\\n\\nHey, what did I do?\\nCan...</td>\n",
       "    </tr>\n",
       "  </tbody>\n",
       "</table>\n",
       "</div>"
      ],
      "text/plain": [
       "  artist                song  \\\n",
       "0  robyn  robyn_includemeout   \n",
       "1  robyn      robyn_electric   \n",
       "2  robyn     robyn_beach2k20   \n",
       "3  robyn     robyn_lovekills   \n",
       "4  robyn   robyn_timemachine   \n",
       "\n",
       "                                              lyrics  \n",
       "0  \"Include Me Out\"\\n\\n\\n\\nIt is really very simp...  \n",
       "1  \"Electric\"\\n\\n\\n\\nElectric...\\n\\nIt's electric...  \n",
       "2  \"Beach 2K20\"\\n\\n\\n\\n(So you wanna go out?\\nHow...  \n",
       "3  \"Love Kills\"\\n\\n\\n\\nIf you're looking for love...  \n",
       "4  \"Time Machine\"\\n\\n\\n\\nHey, what did I do?\\nCan...  "
      ]
     },
     "execution_count": 22,
     "metadata": {},
     "output_type": "execute_result"
    }
   ],
   "source": [
    "# Read in the lyrics data\n",
    "\n",
    "\n",
    "data_location = \"/Users/muriss/Downloads/M1 Results\"\n",
    "lyrics_folder = os.path.join(data_location, \"lyrics\")\n",
    "\n",
    "song_data = []\n",
    "\n",
    "for artist in ['robyn', 'cher']:\n",
    "    artist_path = os.path.join(lyrics_folder, artist)\n",
    "    \n",
    "    for file_name in os.listdir(artist_path):\n",
    "        if file_name.endswith('.txt'):\n",
    "            song_path = os.path.join(artist_path, file_name)\n",
    "            with open(song_path, 'r', encoding='utf-8') as file:\n",
    "                lyrics = file.read()\n",
    "            song_title = file_name.replace('.txt', '')\n",
    "            song_data.append({\n",
    "                'artist': artist,\n",
    "                'song': song_title,\n",
    "                'lyrics': lyrics\n",
    "            })\n",
    "\n",
    "lyrics_df = pd.DataFrame(song_data)\n",
    "lyrics_df.head()\n",
    "\n"
   ]
  },
  {
   "cell_type": "code",
   "execution_count": 23,
   "id": "debcac5a",
   "metadata": {},
   "outputs": [
    {
     "data": {
      "text/html": [
       "<div>\n",
       "<style scoped>\n",
       "    .dataframe tbody tr th:only-of-type {\n",
       "        vertical-align: middle;\n",
       "    }\n",
       "\n",
       "    .dataframe tbody tr th {\n",
       "        vertical-align: top;\n",
       "    }\n",
       "\n",
       "    .dataframe thead th {\n",
       "        text-align: right;\n",
       "    }\n",
       "</style>\n",
       "<table border=\"1\" class=\"dataframe\">\n",
       "  <thead>\n",
       "    <tr style=\"text-align: right;\">\n",
       "      <th></th>\n",
       "      <th>artist</th>\n",
       "      <th>file_name</th>\n",
       "      <th>content</th>\n",
       "    </tr>\n",
       "  </thead>\n",
       "  <tbody>\n",
       "    <tr>\n",
       "      <th>0</th>\n",
       "      <td>cher</td>\n",
       "      <td>cher_followers_data.txt</td>\n",
       "      <td>screen_name\\tname\\tid\\tlocation\\tfollowers_cou...</td>\n",
       "    </tr>\n",
       "    <tr>\n",
       "      <th>1</th>\n",
       "      <td>robyn</td>\n",
       "      <td>robynkonichiwa_followers_data.txt</td>\n",
       "      <td>screen_name\\tname\\tid\\tlocation\\tfollowers_cou...</td>\n",
       "    </tr>\n",
       "    <tr>\n",
       "      <th>2</th>\n",
       "      <td>cher</td>\n",
       "      <td>cher_followers.txt</td>\n",
       "      <td>id\\n35152213\\n742153090850164742\\n149646300645...</td>\n",
       "    </tr>\n",
       "    <tr>\n",
       "      <th>3</th>\n",
       "      <td>robyn</td>\n",
       "      <td>robynkonichiwa_followers.txt</td>\n",
       "      <td>id\\n1424055675030806529\\n1502717352575651840\\n...</td>\n",
       "    </tr>\n",
       "  </tbody>\n",
       "</table>\n",
       "</div>"
      ],
      "text/plain": [
       "  artist                          file_name  \\\n",
       "0   cher            cher_followers_data.txt   \n",
       "1  robyn  robynkonichiwa_followers_data.txt   \n",
       "2   cher                 cher_followers.txt   \n",
       "3  robyn       robynkonichiwa_followers.txt   \n",
       "\n",
       "                                             content  \n",
       "0  screen_name\\tname\\tid\\tlocation\\tfollowers_cou...  \n",
       "1  screen_name\\tname\\tid\\tlocation\\tfollowers_cou...  \n",
       "2  id\\n35152213\\n742153090850164742\\n149646300645...  \n",
       "3  id\\n1424055675030806529\\n1502717352575651840\\n...  "
      ]
     },
     "execution_count": 23,
     "metadata": {},
     "output_type": "execute_result"
    }
   ],
   "source": [
    "# Read in the twitter data\n",
    "\n",
    "data_location = \"/Users/muriss/Downloads/M1 Results\"\n",
    "twitter_folder = os.path.join(data_location, \"twitter\")\n",
    "twitter_data = []\n",
    "\n",
    "for file_name in os.listdir(twitter_folder):\n",
    "    if file_name.endswith('.txt'):\n",
    "        file_path = os.path.join(twitter_folder, file_name)\n",
    "        with open(file_path, 'r', encoding='utf-8') as file:\n",
    "            twitter_content = file.read()\n",
    "        if 'cher' in file_name.lower():\n",
    "            artist = 'cher'\n",
    "        elif 'robyn' in file_name.lower():\n",
    "            artist = 'robyn'\n",
    "        else:\n",
    "            artist = 'unknown'\n",
    "        twitter_data.append({\n",
    "            'artist': artist,\n",
    "            'file_name': file_name,\n",
    "            'content': twitter_content\n",
    "        })\n",
    "\n",
    "twitter_df = pd.DataFrame(twitter_data)\n",
    "\n",
    "twitter_df\n"
   ]
  },
  {
   "cell_type": "code",
   "execution_count": 24,
   "id": "af9e7a4b",
   "metadata": {},
   "outputs": [
    {
     "data": {
      "text/plain": [
       "[('a+', 1),\n",
       " ('abound', 1),\n",
       " ('abounds', 1),\n",
       " ('abundance', 1),\n",
       " ('abundant', 1),\n",
       " ('accessable', 1),\n",
       " ('accessible', 1),\n",
       " ('acclaim', 1),\n",
       " ('acclaimed', 1),\n",
       " ('acclamation', 1)]"
      ]
     },
     "execution_count": 24,
     "metadata": {},
     "output_type": "execute_result"
    }
   ],
   "source": [
    "# Read in the positive and negative words and the\n",
    "# tidytext sentiment. Store these so that the positive\n",
    "# words are associated with a score of +1 and negative words\n",
    "# are associated with a score of -1. You can use a dataframe or a \n",
    "# dictionary for this.\n",
    "\n",
    "sentiment_dict = {}\n",
    "\n",
    "with open(positive_words_file, 'r', encoding='utf-8') as file:\n",
    "    for line in file:\n",
    "        word = line.strip()\n",
    "        if word and not word.startswith(';'):\n",
    "            sentiment_dict[word] = 1\n",
    "\n",
    "with open(negative_words_file, 'r', encoding='utf-8') as file:\n",
    "    for line in file:\n",
    "        word = line.strip()\n",
    "        if word and not word.startswith(';'):\n",
    "            sentiment_dict[word] = -1\n",
    "\n",
    "list(sentiment_dict.items())[:10]\n"
   ]
  },
  {
   "cell_type": "markdown",
   "id": "6a5f3b12",
   "metadata": {},
   "source": [
    "## Sentiment Analysis on Songs\n",
    "\n",
    "In this section, score the sentiment for all the songs for both artists in your data set. Score the sentiment by manually calculating the sentiment using the combined lexicons provided in this repository. \n",
    "\n",
    "After you have calculated these sentiments, answer the questions at the end of this section.\n"
   ]
  },
  {
   "cell_type": "code",
   "execution_count": 25,
   "id": "664f8d8f",
   "metadata": {},
   "outputs": [
    {
     "name": "stdout",
     "output_type": "stream",
     "text": [
      "    artist                    song  sentiment_score\n",
      "0    robyn      robyn_includemeout               -3\n",
      "1    robyn          robyn_electric               -6\n",
      "2    robyn         robyn_beach2k20               20\n",
      "3    robyn         robyn_lovekills              -23\n",
      "4    robyn       robyn_timemachine               -5\n",
      "..     ...                     ...              ...\n",
      "415   cher  cher_takeitfromtheboys               12\n",
      "416   cher          cher_dreambaby               11\n",
      "417   cher   cher_pleasedonttellme               -2\n",
      "418   cher     cher_ihopeyoufindit                2\n",
      "419   cher       cher_classified1a                3\n",
      "\n",
      "[420 rows x 3 columns]\n"
     ]
    }
   ],
   "source": [
    "# your code here\n",
    "\n",
    "def calculate_sentiment(text, sentiment_dict):\n",
    "    words = text.split()  \n",
    "    score = 0\n",
    "    for word in words:\n",
    "        word = word.lower().strip(punctuation)  \n",
    "        score += sentiment_dict.get(word, 0)  \n",
    "    return score\n",
    "\n",
    "lyrics_df['sentiment_score'] = lyrics_df['lyrics'].apply(\n",
    "    lambda lyrics: \n",
    "    calculate_sentiment(lyrics, sentiment_dict)\n",
    "    )\n",
    "print(lyrics_df[['artist', 'song', 'sentiment_score']])\n",
    "\n"
   ]
  },
  {
   "cell_type": "markdown",
   "id": "1f8334f4",
   "metadata": {},
   "source": [
    "### Questions\n",
    "\n",
    "Q: Overall, which artist has the higher average sentiment per song? \n",
    "\n",
    "A: cher"
   ]
  },
  {
   "cell_type": "code",
   "execution_count": 26,
   "id": "b5fc06a1",
   "metadata": {},
   "outputs": [
    {
     "data": {
      "text/plain": [
       "artist\n",
       "cher     3.471519\n",
       "robyn    2.509615\n",
       "Name: sentiment_score, dtype: float64"
      ]
     },
     "execution_count": 26,
     "metadata": {},
     "output_type": "execute_result"
    }
   ],
   "source": [
    "lyrics_df.groupby('artist')['sentiment_score'].mean()\n"
   ]
  },
  {
   "cell_type": "markdown",
   "id": "d8dd0fb4",
   "metadata": {},
   "source": [
    "\n",
    "---\n",
    "Q: For your first artist, what are the three songs that have the highest and lowest sentiments? Print the lyrics of those songs to the screen. What do you think is driving the sentiment score? \n",
    "\n",
    "\n",
    "Top 3: \n",
    "1. Perfection (score 47)\n",
    "2. My Love (score 45)\n",
    "3. Love And Understanding (score 42)\n",
    "\n",
    "These songs seem to contain positive themes like love, understanding, and perfection. Positive emotions and affirmative language (e.g., \"love\", \"perfection\") likely contribute to the high sentiment scores.\n",
    "\n",
    "Bottom 3:\n",
    "1. \"I Walk On Guilded Splinters\" (Sentiment Score: -25)\n",
    "2. \"Outrageous\" (Sentiment Score: -24)\n",
    "3. \"When You Walk Away\" (Sentiment Score: -17)\n",
    "\n",
    "The lowest sentiment songs seem to revolve around negative emotions, conflict, and potentially darker or more somber themes (e.g., \"crazy\", \"outrageous\", \"leaving\"), driving the negative sentiment scores."
   ]
  },
  {
   "cell_type": "code",
   "execution_count": 27,
   "id": "229e9532",
   "metadata": {},
   "outputs": [
    {
     "data": {
      "text/plain": [
       "(                          song  sentiment_score  \\\n",
       " 207            cher_perfection               47   \n",
       " 119                cher_mylove               45   \n",
       " 250  cher_loveandunderstanding               42   \n",
       " \n",
       "                                                 lyrics  \n",
       " 207  \"Perfection\"\\n\\n\\n\\nHush little Baby, gotta be...  \n",
       " 119  \"My Love\"\\n\\n\\n\\nWhen I go away\\nI know my hea...  \n",
       " 250  \"Love And Understanding\"\\n\\n\\n\\nHere, here in ...  ,\n",
       "                              song  sentiment_score  \\\n",
       " 275  cher_iwalkonguildedsplinters              -25   \n",
       " 262               cher_outrageous              -24   \n",
       " 283          cher_whenyouwalkaway              -17   \n",
       " \n",
       "                                                 lyrics  \n",
       " 275  \"I Walk On Guilded Splinters\"\\n\\n\\n\\nSome peop...  \n",
       " 262  \"Outrageous\"\\n\\n\\n\\nOutrageous, outrageous\\n(T...  \n",
       " 283  \"When You Walk Away\"\\n\\n\\n\\nSo leave if you're...  )"
      ]
     },
     "execution_count": 27,
     "metadata": {},
     "output_type": "execute_result"
    }
   ],
   "source": [
    "cher_songs = lyrics_df[lyrics_df['artist'] == 'cher']\n",
    "highest_sentiment_songs = cher_songs.nlargest(3, 'sentiment_score')\n",
    "lowest_sentiment_songs = cher_songs.nsmallest(3, 'sentiment_score')\n",
    "highest_sentiment_songs_info = highest_sentiment_songs[['song', 'sentiment_score', 'lyrics']]\n",
    "lowest_sentiment_songs_info = lowest_sentiment_songs[['song', 'sentiment_score', 'lyrics']]\n",
    "highest_sentiment_songs_info, lowest_sentiment_songs_info\n"
   ]
  },
  {
   "cell_type": "markdown",
   "id": "782fb0e6",
   "metadata": {},
   "source": [
    "\n",
    "---\n",
    "Q: For your second artist, what are the three songs that have the highest and lowest sentiments? Print the lyrics of those songs to the screen. What do you think is driving the sentiment score? \n",
    "\n",
    "Top 3:\n",
    "1. \"Love Is Free\" (Sentiment Score: 102)\n",
    "2. \"U Should Know Better\" (Sentiment Score: 26)\n",
    "3. \"U Should Know Better (114529)\" (Sentiment Score: 26)\n",
    "\n",
    "The songs \"Love Is Free\" and \"U Should Know Better\" have positive and liberating themes, with the former directly talking about freedom and love, which likely leads to high sentiment scores due to the use of affirmative, empowering words.\n",
    "\n",
    "Bottom 3:\n",
    "\n",
    "1. \"Don't Fucking Tell Me What To Do\" (Sentiment Score: -77)\n",
    "2. \"Don't Fucking Tell Me What To Do (114520)\" (Sentiment Score: -77)\n",
    "3. \"Criminal Intent\" (Sentiment Score: -53)\n",
    "\n",
    "\"Don't Fucking Tell Me What To Do\" and \"Criminal Intent\" contain themes of rebellion, frustration, and negative emotions. The repeated mentions of harmful behaviors and defiance likely drive these songs' negative sentiment scores."
   ]
  },
  {
   "cell_type": "code",
   "execution_count": 28,
   "id": "3f5ba540",
   "metadata": {},
   "outputs": [
    {
     "data": {
      "text/plain": [
       "(                             song  sentiment_score  \\\n",
       " 21               robyn_loveisfree              102   \n",
       " 65  robyn_ushouldknowbetter114529               26   \n",
       " 68        robyn_ushouldknowbetter               26   \n",
       " \n",
       "                                                lyrics  \n",
       " 21  \"Love Is Free\"\\n\\n\\n\\nFree\\nLove is free, baby...  \n",
       " 65  \"U Should Know Better\"\\n\\n\\n\\nI've gone around...  \n",
       " 68  \"U Should Know Better\"\\n\\n\\n\\nI've gone around...  ,\n",
       "                                      song  sentiment_score  \\\n",
       " 53        robyn_dontfuckingtellmewhattodo              -77   \n",
       " 75  robyn_dontfuckingtellmewhattodo114520              -77   \n",
       " 16                   robyn_criminalintent              -53   \n",
       " \n",
       "                                                lyrics  \n",
       " 53  \"Don't Fucking Tell Me What To Do\"\\n\\n\\n\\nMy d...  \n",
       " 75  \"Don't Fucking Tell Me What To Do\"\\n\\n\\n\\nMy d...  \n",
       " 16  \"Criminal Intent\"\\n\\n\\n\\nSomebody alert the au...  )"
      ]
     },
     "execution_count": 28,
     "metadata": {},
     "output_type": "execute_result"
    }
   ],
   "source": [
    "cher_songs = lyrics_df[lyrics_df['artist'] == 'robyn']\n",
    "highest_sentiment_songs = cher_songs.nlargest(3, 'sentiment_score')\n",
    "lowest_sentiment_songs = cher_songs.nsmallest(3, 'sentiment_score')\n",
    "highest_sentiment_songs_info = highest_sentiment_songs[['song', 'sentiment_score', 'lyrics']]\n",
    "lowest_sentiment_songs_info = lowest_sentiment_songs[['song', 'sentiment_score', 'lyrics']]\n",
    "highest_sentiment_songs_info, lowest_sentiment_songs_info"
   ]
  },
  {
   "cell_type": "markdown",
   "id": "159b8a27",
   "metadata": {},
   "source": [
    "---\n",
    "Q: Plot the distributions of the sentiment scores for both artists. You can use `seaborn` to plot densities or plot histograms in matplotlib."
   ]
  },
  {
   "cell_type": "code",
   "execution_count": 29,
   "id": "781c24f2",
   "metadata": {},
   "outputs": [
    {
     "data": {
      "image/png": "[encoded data removed]",
      "text/plain": [
       "<Figure size 1000x600 with 1 Axes>"
      ]
     },
     "metadata": {},
     "output_type": "display_data"
    }
   ],
   "source": [
    "import matplotlib.pyplot as plt\n",
    "import seaborn as sns\n",
    "\n",
    "plt.figure(figsize=(10, 6))\n",
    "sns.kdeplot(data=lyrics_df, x='sentiment_score', hue='artist', fill=True, common_norm=False)\n",
    "plt.title('Sentiment Score Distribution for Robyn and Cher', fontsize=16)\n",
    "plt.xlabel('Sentiment Score', fontsize=12)\n",
    "plt.ylabel('Density', fontsize=12)\n",
    "plt.show()\n"
   ]
  },
  {
   "cell_type": "markdown",
   "id": "b3fe644d",
   "metadata": {},
   "source": [
    "## Sentiment Analysis on Twitter Descriptions\n",
    "\n",
    "In this section, define two sets of emojis you designate as positive and negative. Make sure to have at least 10 emojis per set. You can learn about the most popular emojis on Twitter at [the emojitracker](https://emojitracker.com/). \n",
    "\n",
    "Associate your positive emojis with a score of +1, negative with -1. Score the average sentiment of your two artists based on the Twitter descriptions of their followers. The average sentiment can just be the total score divided by number of followers. You do not need to calculate sentiment on non-emoji content for this section."
   ]
  },
  {
   "cell_type": "code",
   "execution_count": 30,
   "id": "1a5c1d25",
   "metadata": {},
   "outputs": [],
   "source": [
    "# your code here\n",
    "\n",
    "files = {\n",
    "    \"cher\": \"/Users/muriss/Downloads/M1 Results/twitter/cher_followers_data.txt\",\n",
    "    \"robyn\": \"/Users/muriss/Downloads/M1 Results/twitter/robynkonichiwa_followers_data.txt\"\n",
    "}\n",
    "\n",
    "followers_data = []\n",
    "\n",
    "for artist, file_path in files.items():\n",
    "    df = pd.read_csv(file_path, sep='\\t', engine='python', on_bad_lines='skip')\n",
    "    df['artist'] = artist\n",
    "    followers_data.append(df)\n",
    "\n",
    "followers_df = pd.concat(followers_data, ignore_index=True)"
   ]
  },
  {
   "cell_type": "code",
   "execution_count": 31,
   "id": "39d21cd3",
   "metadata": {},
   "outputs": [
    {
     "name": "stdout",
     "output_type": "stream",
     "text": [
      "\n",
      "Average Emoji Sentiment:\n",
      "artist\n",
      "cher     0.006012\n",
      "robyn    0.002886\n",
      "Name: emoji_sentiment, dtype: float64\n"
     ]
    }
   ],
   "source": [
    "\n",
    "positive_emojis = ['😀', '😊', '😃', '😍', '😎', '😁', '🥳', '🎉', '👍', '❤️']\n",
    "negative_emojis = ['😡', '😢', '😠', '😞', '💔', '😭', '🤬', '👎', '😤', '😓']\n",
    "\n",
    "emoji_sentiment_dict = {em: 1 for em in positive_emojis}\n",
    "emoji_sentiment_dict.update({em: -1 for em in negative_emojis})\n",
    "\n",
    "def calculate_emoji_sentiment(description, emoji_dict):\n",
    "    score = 0\n",
    "    for char in description:\n",
    "        if char in emoji_dict:\n",
    "            score += emoji_dict[char]\n",
    "    return score\n",
    "\n",
    "followers_df['emoji_sentiment'] = followers_df['description'].fillna('').apply(lambda desc: calculate_emoji_sentiment(desc, emoji_sentiment_dict))\n",
    "average_emoji_sentiment = followers_df.groupby('artist')['emoji_sentiment'].mean()\n",
    "\n",
    "print(\"\\nAverage Emoji Sentiment:\")\n",
    "print(average_emoji_sentiment)"
   ]
  },
  {
   "cell_type": "markdown",
   "id": "fb92eb93",
   "metadata": {},
   "source": [
    "Q: What is the average sentiment of your two artists? \n",
    "\n",
    "```\n",
    "Average Emoji Sentiment for Each Artist:\n",
    "artist\n",
    "cher     0.006012\n",
    "robyn    0.002886\n",
    "```\n",
    "---\n",
    "\n",
    "Q: Which positive emoji is the most popular for each artist? Which negative emoji? \n"
   ]
  },
  {
   "cell_type": "code",
   "execution_count": 33,
   "id": "c4f1df58",
   "metadata": {},
   "outputs": [
    {
     "data": {
      "text/plain": [
       "('😍', '💔', '😎', '💔')"
      ]
     },
     "execution_count": 33,
     "metadata": {},
     "output_type": "execute_result"
    }
   ],
   "source": [
    "positive_emojis = ['😀', '😊', '😃', '😍', '😎', '😁', '🥳', '🎉', '👍', '❤️']\n",
    "negative_emojis = ['😡', '😢', '😠', '😞', '💔', '😭', '🤬', '👎', '😤', '😓']\n",
    "\n",
    "files = {\n",
    "    \"cher\": \"/Users/muriss/Downloads/M1 Results/twitter/cher_followers_data.txt\",\n",
    "    \"robyn\": \"/Users/muriss/Downloads/M1 Results/twitter/robynkonichiwa_followers_data.txt\"\n",
    "}\n",
    "\n",
    "followers_data = []\n",
    "\n",
    "for artist, file_path in files.items():\n",
    "    df = pd.read_csv(file_path, sep='\\t', engine='python', on_bad_lines='skip')\n",
    "    df['artist'] = artist\n",
    "    followers_data.append(df)\n",
    "\n",
    "followers_df = pd.concat(followers_data, ignore_index=True)\n",
    "\n",
    "def count_emoji_occurrences(description, emoji_list):\n",
    "    occurrences = {em: 0 for em in emoji_list}\n",
    "    for char in description:\n",
    "        if char in emoji_list:\n",
    "            occurrences[char] += 1\n",
    "    return occurrences\n",
    "\n",
    "positive_emoji_counts_cher = {em: 0 for em in positive_emojis}\n",
    "positive_emoji_counts_robyn = {em: 0 for em in positive_emojis}\n",
    "negative_emoji_counts_cher = {em: 0 for em in negative_emojis}\n",
    "negative_emoji_counts_robyn = {em: 0 for em in negative_emojis}\n",
    "\n",
    "for index, row in followers_df.iterrows():\n",
    "    artist = row['artist']\n",
    "    description = row['description'] if pd.notnull(row['description']) else \"\"\n",
    "    positive_counts = count_emoji_occurrences(description, positive_emojis)\n",
    "    negative_counts = count_emoji_occurrences(description, negative_emojis)\n",
    "    \n",
    "    if artist == 'cher':\n",
    "        for emoji_char, count in positive_counts.items():\n",
    "            positive_emoji_counts_cher[emoji_char] += count\n",
    "        for emoji_char, count in negative_counts.items():\n",
    "            negative_emoji_counts_cher[emoji_char] += count\n",
    "    elif artist == 'robyn':\n",
    "        for emoji_char, count in positive_counts.items():\n",
    "            positive_emoji_counts_robyn[emoji_char] += count\n",
    "        for emoji_char, count in negative_counts.items():\n",
    "            negative_emoji_counts_robyn[emoji_char] += count\n",
    "\n",
    "most_popular_positive_cher = max(positive_emoji_counts_cher, key=positive_emoji_counts_cher.get)\n",
    "most_popular_negative_cher = max(negative_emoji_counts_cher, key=negative_emoji_counts_cher.get)\n",
    "most_popular_positive_robyn = max(positive_emoji_counts_robyn, key=positive_emoji_counts_robyn.get)\n",
    "most_popular_negative_robyn = max(negative_emoji_counts_robyn, key=negative_emoji_counts_robyn.get)\n",
    "\n",
    "most_popular_positive_cher, \n",
    "most_popular_negative_cher, \n",
    "most_popular_positive_robyn, \n",
    "most_popular_negative_robyn\n",
    "\n"
   ]
  }
 ],
 "metadata": {
  "kernelspec": {
   "display_name": "Python 3",
   "language": "python",
   "name": "python3"
  },
  "language_info": {
   "codemirror_mode": {
    "name": "ipython",
    "version": 3
   },
   "file_extension": ".py",
   "mimetype": "text/x-python",
   "name": "python",
   "nbconvert_exporter": "python",
   "pygments_lexer": "ipython3",
   "version": "3.12.5"
  }
 },
 "nbformat": 4,
 "nbformat_minor": 5
}
